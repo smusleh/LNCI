{
 "cells": [
  {
   "cell_type": "code",
   "execution_count": 6,
   "metadata": {},
   "outputs": [],
   "source": [
    "from PseKNC_Features import *"
   ]
  },
  {
   "cell_type": "code",
   "execution_count": 7,
   "metadata": {},
   "outputs": [
    {
     "name": "stdout",
     "output_type": "stream",
     "text": [
      "(101, 75)\n",
      "                                                    0         1         2   \\\n",
      "0                                                   id  pseknc.0  pseknc.1   \n",
      "1    ENST00000641515.2|ENSG00000186092.6|OTTHUMG000...     0.025     0.008   \n",
      "2    ENST00000332831.4|ENSG00000284662.1|OTTHUMG000...     0.005     0.003   \n",
      "3    ENST00000342066.8|ENSG00000187634.13|OTTHUMG00...     0.006     0.004   \n",
      "4    ENST00000622503.5|ENSG00000187634.13|OTTHUMG00...     0.001     0.004   \n",
      "..                                                 ...       ...       ...   \n",
      "96   ENST00000356026.10|ENSG00000189409.14|OTTHUMG0...     0.003     0.004   \n",
      "97   ENST00000378675.7|ENSG00000189409.14|OTTHUMG00...     0.003     0.004   \n",
      "98   ENST00000435358.5|ENSG00000189409.14|OTTHUMG00...     0.004     0.004   \n",
      "99   ENST00000503792.1|ENSG00000189409.14|OTTHUMG00...     0.004     0.004   \n",
      "100  ENST00000341832.11|ENSG00000248333.9|OTTHUMG00...     0.015     0.008   \n",
      "\n",
      "           3         4         5         6         7         8         9   \\\n",
      "0    pseknc.2  pseknc.3  pseknc.4  pseknc.5  pseknc.6  pseknc.7  pseknc.8   \n",
      "1       0.015     0.011     0.011     0.004     0.009     0.002     0.017   \n",
      "2       0.007     0.007      0.01     0.006     0.013     0.002     0.007   \n",
      "3       0.003     0.009     0.005      0.01     0.006     0.007     0.001   \n",
      "4       0.002     0.008     0.004     0.012     0.005     0.008     0.001   \n",
      "..        ...       ...       ...       ...       ...       ...       ...   \n",
      "96      0.001     0.005     0.006     0.012     0.006     0.012     0.001   \n",
      "97      0.001     0.005     0.005     0.012     0.005     0.012     0.001   \n",
      "98      0.002     0.007     0.007     0.014     0.006     0.017     0.001   \n",
      "99      0.001     0.007     0.007     0.014     0.006     0.016         0   \n",
      "100     0.004      0.02     0.009      0.01     0.006     0.006     0.002   \n",
      "\n",
      "     ...         65         66         67         68         69         70  \\\n",
      "0    ...  pseknc.64  pseknc.65  pseknc.66  pseknc.67  pseknc.68  pseknc.69   \n",
      "1    ...     0.0585     0.0445     0.0463     0.0454     0.0464     0.0449   \n",
      "2    ...     0.0539     0.0423     0.0426     0.0404     0.0453     0.0414   \n",
      "3    ...     0.0463     0.0392     0.0354     0.0389     0.0382     0.0352   \n",
      "4    ...     0.0464      0.039     0.0348     0.0388     0.0384     0.0352   \n",
      "..   ...        ...        ...        ...        ...        ...        ...   \n",
      "96   ...     0.0514     0.0382     0.0387     0.0401     0.0391     0.0394   \n",
      "97   ...     0.0511      0.038     0.0389     0.0396      0.039      0.039   \n",
      "98   ...     0.0518      0.038      0.039     0.0401     0.0391     0.0387   \n",
      "99   ...     0.0515     0.0384     0.0379     0.0395     0.0393     0.0383   \n",
      "100  ...     0.0473      0.039     0.0368     0.0392     0.0378     0.0367   \n",
      "\n",
      "            71         72         73         74  \n",
      "0    pseknc.70  pseknc.71  pseknc.72  pseknc.73  \n",
      "1       0.0462     0.0456     0.0461     0.0449  \n",
      "2       0.0425     0.0421     0.0423     0.0423  \n",
      "3       0.0378     0.0372     0.0371     0.0374  \n",
      "4       0.0377      0.037     0.0367     0.0381  \n",
      "..         ...        ...        ...        ...  \n",
      "96      0.0395     0.0394     0.0384     0.0403  \n",
      "97      0.0396     0.0391     0.0383       0.04  \n",
      "98      0.0403     0.0391     0.0385     0.0416  \n",
      "99      0.0402     0.0389     0.0384     0.0412  \n",
      "100     0.0388     0.0374      0.037     0.0386  \n",
      "\n",
      "[101 rows x 75 columns]\n"
     ]
    }
   ],
   "source": [
    "\n",
    "input_file = \"./input/sample100seq.fa\"\n",
    "output_path  = \"./output/PseKNC_Features.csv\"\n",
    "\n",
    "#\n",
    "# Pseknc parametrs: input Fasta File, k=3, lambda_=10, w=0.05\n",
    "# Optional paramters with default values: k=3, lambda_=10, w=0.05\n",
    "\n",
    "\n",
    "vector= Pseknc(input_file,lambda_=10)\n",
    "\n",
    "Pseknc_features = pd.DataFrame(data=vector)\n",
    "print(Pseknc_features.shape)\n",
    "print(Pseknc_features)\n",
    "Pseknc_features.to_csv(output_path,header=False,index=False)\n"
   ]
  },
  {
   "cell_type": "code",
   "execution_count": null,
   "metadata": {},
   "outputs": [],
   "source": []
  }
 ],
 "metadata": {
  "kernelspec": {
   "display_name": "Python 3",
   "language": "python",
   "name": "python3"
  },
  "language_info": {
   "codemirror_mode": {
    "name": "ipython",
    "version": 3
   },
   "file_extension": ".py",
   "mimetype": "text/x-python",
   "name": "python",
   "nbconvert_exporter": "python",
   "pygments_lexer": "ipython3",
   "version": "3.8.5"
  }
 },
 "nbformat": 4,
 "nbformat_minor": 4
}
